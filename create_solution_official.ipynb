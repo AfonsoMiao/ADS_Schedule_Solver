{
 "cells": [
  {
   "cell_type": "code",
   "execution_count": 1,
   "id": "inner-empty",
   "metadata": {},
   "outputs": [],
   "source": [
    "import pandas as pd\n",
    "import numpy as np\n",
    "import random\n",
    "import math"
   ]
  },
  {
   "cell_type": "code",
   "execution_count": 2,
   "id": "eleven-continuity",
   "metadata": {},
   "outputs": [],
   "source": [
    "schedule = pd.read_csv('./data/clean_timetable.csv')\n",
    "rooms = pd.read_csv('./data/clean_rooms.csv')"
   ]
  },
  {
   "cell_type": "code",
   "execution_count": 3,
   "id": "remarkable-drove",
   "metadata": {},
   "outputs": [
    {
     "name": "stdout",
     "output_type": "stream",
     "text": [
      "There's 759 type of classes\n",
      "There's 120 available rooms\n"
     ]
    }
   ],
   "source": [
    "print(\"There's %i type of classes\" %(len(schedule['Unidade de execução'].unique())))\n",
    "print(\"There's %i available rooms\" % (rooms.shape[0]))"
   ]
  },
  {
   "cell_type": "code",
   "execution_count": 4,
   "id": "alike-addiction",
   "metadata": {},
   "outputs": [],
   "source": [
    "df_count_class = schedule[['Unidade de execução', 'Turma', 'Turno']].groupby(['Unidade de execução','Turma', 'Turno'], dropna=False)['Unidade de execução'] \\\n",
    "                             .count() \\\n",
    "                             .reset_index(name='count') \\\n",
    "                             .sort_values(['count'], ascending=False)"
   ]
  },
  {
   "cell_type": "code",
   "execution_count": 5,
   "id": "apparent-manufacturer",
   "metadata": {},
   "outputs": [],
   "source": [
    "df_mean_class = schedule[['Unidade de execução', 'Inscritos no turno (no 1º semestre é baseado em estimativas)', 'Turma']].groupby(['Unidade de execução', 'Turma'], dropna=False)['Inscritos no turno (no 1º semestre é baseado em estimativas)'] \\\n",
    "                             .mean().round(0) \\\n",
    "                             .reset_index(name='mean')"
   ]
  },
  {
   "cell_type": "code",
   "execution_count": 6,
   "id": "geological-connection",
   "metadata": {},
   "outputs": [],
   "source": [
    "def get_rooms(class_capacity_level):\n",
    "    capacity_to_filter = class_capacity_level - 5\n",
    "    rooms_filtered = rooms[(rooms['Capacidade Normal'] >= capacity_to_filter)].sort_values(by=['Capacidade Normal'], ascending=True)\n",
    "    return rooms_filtered['Code'].reset_index(drop=True)"
   ]
  },
  {
   "cell_type": "code",
   "execution_count": 7,
   "id": "great-heater",
   "metadata": {},
   "outputs": [],
   "source": [
    "def choose_best_room_oficial(rooms_timetable, array_rooms, class_init, name_class, c_class, turn_class):\n",
    "    available_rooms = []\n",
    "    solution = pd.DataFrame(columns=[\"Time\", \"Room Code\"])\n",
    "    n_classes = len(class_init)\n",
    "    times_assign = class_init['Início'].values.tolist()\n",
    "    aux_counter = 1\n",
    "    for index in range(len(array_rooms)):\n",
    "        room = array_rooms[index]\n",
    "        timetable = rooms_timetable[room]\n",
    "        intersection_time = np.intersect1d(timetable, times_assign, assume_unique=False, return_indices=False).tolist()\n",
    "        if len(intersection_time) == 0:\n",
    "            data = []\n",
    "            for time in times_assign:\n",
    "                data.append((time, room))\n",
    "            aux_df = pd.DataFrame(data=data, columns=[\"Time\", \"Room Code\"])\n",
    "            solution = solution.append(aux_df, ignore_index=True)\n",
    "            n_classes = n_classes - len(times_assign)\n",
    "            if n_classes == 0:\n",
    "                break\n",
    "        elif len(intersection_time) != len(timetable): # Didn't intersect any time --> so is empty\n",
    "            available_times = np.setdiff1d(times_assign, intersection_time, assume_unique=False).tolist()\n",
    "            data = []\n",
    "            for time in available_times:\n",
    "                data.append((time, room))\n",
    "            aux_df = pd.DataFrame(data=data, columns=[\"Time\", \"Room Code\"])\n",
    "            solution = solution.append(aux_df, ignore_index=True)\n",
    "            n_classes = len(intersection_time)\n",
    "            times_assign = intersection_time\n",
    "            if n_classes == 0:\n",
    "                times_assign = []\n",
    "                break\n",
    "        aux_counter +=1\n",
    "    #Verify if still has classes that has no assigned room\n",
    "    final_solution = class_init.merge(solution, how=\"inner\", left_on=\"Início\", right_on=\"Time\")[['Code', 'Início' ,\"Room Code\"]]\n",
    "    return final_solution"
   ]
  },
  {
   "cell_type": "code",
   "execution_count": 8,
   "id": "dental-certification",
   "metadata": {},
   "outputs": [],
   "source": [
    "def update_timetable(df_solution, timetable): #selected_room variable--> input\n",
    "    timetable_c = timetable.copy()\n",
    "    list_rooms = df_solution['Room Code'].unique()\n",
    "    for room_code in list_rooms:\n",
    "        timetable_c[room_code] = timetable_c[room_code] + df_solution[df_solution['Room Code'] == room_code]['Início'].values.tolist()\n",
    "    return timetable_c"
   ]
  },
  {
   "cell_type": "code",
   "execution_count": 11,
   "id": "cardiovascular-scale",
   "metadata": {},
   "outputs": [],
   "source": [
    "def merge_solution(df_schedule, df_solution, df_rooms):\n",
    "    df_sol_smp = df_solution.merge(df_rooms, how=\"inner\", left_on=\"Room Code\", right_on=\"Code\")[['Code_x', 'Nome sala', 'Capacidade Normal']].rename(columns={\"Code_x\": \"Class Code\"})\n",
    "    interesting_columns = df_schedule.columns.tolist() + [\"Nome sala\", \"Capacidade Normal\", \"Lotação_Default\"]\n",
    "    interesting_columns.remove(\"Code\")\n",
    "    interesting_columns.remove(\"Sala da aula\")\n",
    "    interesting_columns.remove(\"Lotação\")\n",
    "    df_join = df_schedule.merge(df_sol_smp, how=\"inner\", left_on=\"Code\", right_on=\"Class Code\").rename(columns={\"Lotação\": \"Lotação_Default\"})\n",
    "    df_final = df_join[interesting_columns].rename(columns={\"Nome sala\": \"Sala da aula\", \"Capacidade Normal\": \"Lotação\"}).to_csv(\"./output/final_schedule2.csv\", index=False, encoding=\"utf-8-sig\")"
   ]
  },
  {
   "cell_type": "code",
   "execution_count": 9,
   "id": "chinese-pocket",
   "metadata": {},
   "outputs": [],
   "source": [
    "rooms_timetable = [[]] * len(rooms)\n",
    "df_solution = pd.DataFrame(columns=[\"Code\", 'Início' ,\"Room Code\"])\n",
    "counter = 0\n",
    "for row in df_count_class.values:\n",
    "    name_class = row[0]\n",
    "    c_class = row[1]\n",
    "    turn_class = row[2]\n",
    "    class_timetable = schedule[(schedule['Unidade de execução'] == name_class) & (schedule['Turma'] == c_class) & (schedule['Turno'] == turn_class)][['Code', 'Início']] if isinstance(c_class, str) else schedule[(schedule['Unidade de execução'] == name_class) & (schedule['Turma'].isnull()) & (schedule['Turno'] == turn_class)][['Code', 'Início']]\n",
    "    n_students = int(df_mean_class[(df_mean_class['Unidade de execução'] == name_class) & (df_mean_class['Turma'] == c_class)]['mean']) if isinstance(c_class, str) else int(df_mean_class[(df_mean_class['Unidade de execução'] == name_class) & (df_mean_class['Turma'].isnull())]['mean'])\n",
    "    # Get list of rooms that can handle the n_students\n",
    "    list_rooms = get_rooms(n_students)\n",
    "    # Select the first room of the list\n",
    "    selected_room = choose_best_room_oficial(rooms_timetable, list_rooms, class_timetable, name_class, c_class, turn_class)\n",
    "    # Assign selected room for that class\n",
    "    df_solution = df_solution.append(selected_room)\n",
    "    rooms_timetable = update_timetable(selected_room, rooms_timetable)\n",
    "    counter +=1\n",
    "df_solution = df_solution.drop_duplicates()"
   ]
  },
  {
   "cell_type": "code",
   "execution_count": 10,
   "id": "touched-bailey",
   "metadata": {},
   "outputs": [
    {
     "name": "stdout",
     "output_type": "stream",
     "text": [
      "Solution length: 23957 \n",
      "Needed length: 23957 \n",
      "Number duplicated code: 0\n"
     ]
    }
   ],
   "source": [
    "print('Solution length: %i ' % (len(df_solution)))\n",
    "print('Needed length: %i ' % (len(schedule)))\n",
    "print('Number duplicated code: %i' % (len(df_solution) - len(df_solution['Code'].unique())))"
   ]
  },
  {
   "cell_type": "code",
   "execution_count": 12,
   "id": "acting-channel",
   "metadata": {},
   "outputs": [],
   "source": [
    "merge_solution(schedule, df_solution, rooms)"
   ]
  }
 ],
 "metadata": {
  "kernelspec": {
   "display_name": "Python 3",
   "language": "python",
   "name": "python3"
  },
  "language_info": {
   "codemirror_mode": {
    "name": "ipython",
    "version": 3
   },
   "file_extension": ".py",
   "mimetype": "text/x-python",
   "name": "python",
   "nbconvert_exporter": "python",
   "pygments_lexer": "ipython3",
   "version": "3.8.5"
  }
 },
 "nbformat": 4,
 "nbformat_minor": 5
}
