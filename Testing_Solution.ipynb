{
 "cells": [
  {
   "cell_type": "code",
   "execution_count": 1,
   "id": "threatened-comfort",
   "metadata": {},
   "outputs": [],
   "source": [
    "import pandas as pd\n",
    "import numpy as np\n",
    "import random\n",
    "import math"
   ]
  },
  {
   "cell_type": "code",
   "execution_count": 2,
   "id": "acute-tiger",
   "metadata": {},
   "outputs": [],
   "source": [
    "schedule = pd.read_csv('./data/clean_timetable.csv')\n",
    "rooms = pd.read_csv('./data/clean_rooms.csv')"
   ]
  },
  {
   "cell_type": "code",
   "execution_count": 3,
   "id": "measured-amplifier",
   "metadata": {},
   "outputs": [
    {
     "name": "stdout",
     "output_type": "stream",
     "text": [
      "There's 759 type of classes\n",
      "There's 120 available rooms\n"
     ]
    }
   ],
   "source": [
    "print(\"There's %i type of classes\" %(len(schedule['Unidade de execução'].unique())))\n",
    "print(\"There's %i available rooms\" % (rooms.shape[0]))"
   ]
  },
  {
   "cell_type": "code",
   "execution_count": 66,
   "id": "adjustable-merchandise",
   "metadata": {},
   "outputs": [],
   "source": [
    "# schedule[schedule['Sala da aula'].isnull()]"
   ]
  },
  {
   "cell_type": "code",
   "execution_count": 4,
   "id": "aboriginal-rental",
   "metadata": {},
   "outputs": [],
   "source": [
    "# schedule"
   ]
  },
  {
   "cell_type": "code",
   "execution_count": 5,
   "id": "published-november",
   "metadata": {},
   "outputs": [],
   "source": [
    "# schedule.groupby(['Unidade de execução']).size()"
   ]
  },
  {
   "cell_type": "code",
   "execution_count": 5,
   "id": "promising-lottery",
   "metadata": {},
   "outputs": [],
   "source": [
    "df_count_class = schedule[['Unidade de execução', 'Turma', 'Turno']].groupby(['Unidade de execução','Turma', 'Turno'], dropna=False)['Unidade de execução'] \\\n",
    "                             .count() \\\n",
    "                             .reset_index(name='count') \\\n",
    "                             .sort_values(['count'], ascending=False)\n",
    "                             #.reset_index(drop=True)"
   ]
  },
  {
   "cell_type": "code",
   "execution_count": 6,
   "id": "electric-activation",
   "metadata": {},
   "outputs": [],
   "source": [
    "# for row in df_count_class[df_count_class['Turma'].isnull()].values:\n",
    "#     if math.isnan(row[1]):\n",
    "#         print('nan')"
   ]
  },
  {
   "cell_type": "code",
   "execution_count": 43,
   "id": "public-state",
   "metadata": {},
   "outputs": [],
   "source": [
    "df_mean_class = schedule[['Unidade de execução', 'Inscritos no turno (no 1º semestre é baseado em estimativas)', 'Turma']].groupby(['Unidade de execução', 'Turma'], dropna=False)['Inscritos no turno (no 1º semestre é baseado em estimativas)'] \\\n",
    "                             .mean().round(0) \\\n",
    "                             .reset_index(name='mean')"
   ]
  },
  {
   "cell_type": "code",
   "execution_count": 46,
   "id": "fabulous-reflection",
   "metadata": {},
   "outputs": [],
   "source": [
    "# df_mean_class[df_mean_class['Unidade de execução'] == \"Redes Digitais II - Sistemas, Aplicações e Serviços\"]"
   ]
  },
  {
   "cell_type": "code",
   "execution_count": 47,
   "id": "infinite-mechanism",
   "metadata": {},
   "outputs": [],
   "source": [
    "# schedule[(schedule['Unidade de execução'] == \"Redes Digitais II - Sistemas, Aplicações e Serviços\") & (schedule['Turma'] == \"ET-PLC1\")]"
   ]
  },
  {
   "cell_type": "code",
   "execution_count": 45,
   "id": "forced-lingerie",
   "metadata": {},
   "outputs": [],
   "source": [
    "# schedule[schedule['Code'] == 13377]"
   ]
  },
  {
   "cell_type": "code",
   "execution_count": 8,
   "id": "logical-techno",
   "metadata": {},
   "outputs": [],
   "source": [
    "# df_mean_class[df_mean_class['Unidade de execução'] == 'Contabilidade Financeira I'] #Test purposes"
   ]
  },
  {
   "cell_type": "code",
   "execution_count": 8,
   "id": "checked-victor",
   "metadata": {},
   "outputs": [],
   "source": [
    "def get_rooms(class_capacity_level):\n",
    "    capacity_to_filter = class_capacity_level - 5\n",
    "    rooms_filtered = rooms[(rooms['Capacidade Normal'] >= capacity_to_filter)].sort_values(by=['Capacidade Normal'], ascending=True)\n",
    "    return rooms_filtered['Code'].reset_index(drop=True)"
   ]
  },
  {
   "cell_type": "code",
   "execution_count": 48,
   "id": "desirable-profession",
   "metadata": {},
   "outputs": [],
   "source": [
    "# def choose_best_room(rooms_timetable, array_rooms, class_init):\n",
    "#     available_rooms = []\n",
    "#     for index in range(len(array_rooms)):\n",
    "#         room = array_rooms[index]\n",
    "#         timetable = rooms_timetable[room]\n",
    "#         intersection_time = np.intersect1d(timetable, class_init, assume_unique=False, return_indices=False)\n",
    "#         if len(intersection_time) != 0:\n",
    "#             available_rooms.append(index)\n",
    "#     if len(available_rooms) == 0:\n",
    "#         print('EMPTY ROOMS')\n",
    "#     filtered_rooms = np.take(array_rooms, available_rooms).reset_index(drop=True) if len(available_rooms) != 0 else array_rooms\n",
    "#     choose_random_room = False if len(available_rooms) == 0 else True #in development\n",
    "#     random_index = random.randint(0, len(filtered_rooms)-1)\n",
    "#     return filtered_rooms[random_index] if choose_random_room == True else filtered_rooms[0]"
   ]
  },
  {
   "cell_type": "code",
   "execution_count": 10,
   "id": "bound-plaintiff",
   "metadata": {},
   "outputs": [],
   "source": [
    "# def choose_best_room(rooms_timetable, array_rooms, class_init):\n",
    "#     available_rooms = []\n",
    "#     n_classes = len(class_init)\n",
    "#     times_assign = class_init\n",
    "#     for index in range(len(array_rooms)):\n",
    "#         room = array_rooms[index]\n",
    "#         timetable = rooms_timetable[room]\n",
    "#         intersection_time = np.intersect1d(timetable, times_assign, assume_unique=False, return_indices=False)\n",
    "#         if len(intersection_time) != 0:\n",
    "#             available_rooms.append(index)\n",
    "#         else: # Gotta assign other room for this time\n",
    "#             times_assign = intersection_time\n",
    "#     if len(available_rooms) == 0:\n",
    "#         print('EMPTY ROOMS')\n",
    "#     filtered_rooms = np.take(array_rooms, available_rooms).reset_index(drop=True) if len(available_rooms) != 0 else array_rooms\n",
    "#     choose_random_room = False if len(available_rooms) == 0 else True #in development\n",
    "#     random_index = random.randint(0, len(filtered_rooms)-1)\n",
    "#     return filtered_rooms[random_index] if choose_random_room == True else filtered_rooms[0]"
   ]
  },
  {
   "cell_type": "code",
   "execution_count": 49,
   "id": "isolated-dating",
   "metadata": {},
   "outputs": [],
   "source": [
    "def choose_best_room_oficial(rooms_timetable, array_rooms, class_init, name_class, c_class, turn_class):\n",
    "    available_rooms = []\n",
    "    solution = pd.DataFrame(columns=[\"Time\", \"Room Code\"])\n",
    "    n_classes = len(class_init)\n",
    "    times_assign = class_init['Início'].values.tolist()\n",
    "    aux_counter = 1\n",
    "    for index in range(len(array_rooms)):\n",
    "        room = array_rooms[index]\n",
    "        timetable = rooms_timetable[room]\n",
    "        intersection_time = np.intersect1d(timetable, times_assign, assume_unique=False, return_indices=False).tolist()\n",
    "        if len(intersection_time) == 0:\n",
    "            data = []\n",
    "            for time in times_assign:\n",
    "                data.append((time, room))\n",
    "            aux_df = pd.DataFrame(data=data, columns=[\"Time\", \"Room Code\"])\n",
    "            solution = solution.append(aux_df, ignore_index=True)\n",
    "            n_classes = n_classes - len(times_assign)\n",
    "            if n_classes == 0:\n",
    "                break\n",
    "        elif len(intersection_time) != len(timetable): # Didn't intersect any time --> so is empty\n",
    "            #print(\"Didn't find time\")\n",
    "            available_times = np.setdiff1d(times_assign, intersection_time, assume_unique=False).tolist()\n",
    "            data = []\n",
    "            for time in available_times:\n",
    "                data.append((time, room))\n",
    "            aux_df = pd.DataFrame(data=data, columns=[\"Time\", \"Room Code\"])\n",
    "            solution = solution.append(aux_df, ignore_index=True)\n",
    "            n_classes = len(intersection_time)\n",
    "            times_assign = intersection_time\n",
    "            if n_classes == 0:\n",
    "                times_assign = []\n",
    "                break\n",
    "        aux_counter +=1\n",
    "    #Verify if still has classes that has no assigned room\n",
    "    final_solution = class_init.merge(solution, how=\"inner\", left_on=\"Início\", right_on=\"Time\")[['Code', 'Início' ,\"Room Code\"]]\n",
    "    return final_solution"
   ]
  },
  {
   "cell_type": "code",
   "execution_count": 50,
   "id": "documented-repair",
   "metadata": {},
   "outputs": [],
   "source": [
    "def update_timetable(df_solution, timetable): #selected_room variable--> input\n",
    "    timetable_c = timetable.copy()\n",
    "    list_rooms = df_solution['Room Code'].unique()\n",
    "    for room_code in list_rooms:\n",
    "        timetable_c[room_code] = timetable_c[room_code] + df_solution[df_solution['Room Code'] == room_code]['Início'].values.tolist()\n",
    "    return timetable_c"
   ]
  },
  {
   "cell_type": "code",
   "execution_count": 51,
   "id": "liberal-grass",
   "metadata": {},
   "outputs": [],
   "source": [
    "# IN DEVELOPMENT\n",
    "rooms_timetable = [[]] * len(rooms)\n",
    "df_solution = pd.DataFrame(columns=[\"Code\", 'Início' ,\"Room Code\"])\n",
    "counter = 0\n",
    "for row in df_count_class.values:\n",
    "    name_class = row[0]\n",
    "    c_class = row[1]\n",
    "    turn_class = row[2]\n",
    "    class_timetable = schedule[(schedule['Unidade de execução'] == name_class) & (schedule['Turma'] == c_class) & (schedule['Turno'] == turn_class)][['Code', 'Início']] if isinstance(c_class, str) else schedule[(schedule['Unidade de execução'] == name_class) & (schedule['Turma'].isnull()) & (schedule['Turno'] == turn_class)][['Code', 'Início']]\n",
    "    n_students = int(df_mean_class[(df_mean_class['Unidade de execução'] == name_class) & (df_mean_class['Turma'] == c_class)]['mean']) if isinstance(c_class, str) else int(df_mean_class[(df_mean_class['Unidade de execução'] == name_class) & (df_mean_class['Turma'].isnull())]['mean'])\n",
    "    # Get list of rooms that can handle the n_students\n",
    "    list_rooms = get_rooms(n_students)\n",
    "    # Select the first room of the list\n",
    "    selected_room = choose_best_room_oficial(rooms_timetable, list_rooms, class_timetable, name_class, c_class, turn_class)\n",
    "    #print(selected_room)\n",
    "    # Assign selected room for that class\n",
    "    #solution[counter] = selected_room\n",
    "    df_solution = df_solution.append(selected_room)\n",
    "    #print(\"\\n\")\n",
    "#     print(df_solution)\n",
    "    # Update array_timetable\n",
    "    #rooms_timetable[selected_room] = rooms_timetable[selected_room] + class_timetable\n",
    "    rooms_timetable = update_timetable(selected_room, rooms_timetable)\n",
    "    counter +=1\n",
    "df_solution = df_solution.drop_duplicates()\n",
    "# Final result should a dataframe that contains assigned room for each class\n",
    "# Join or create a new array to make the join"
   ]
  },
  {
   "cell_type": "code",
   "execution_count": 53,
   "id": "protected-assessment",
   "metadata": {},
   "outputs": [],
   "source": [
    "# int(df_mean_class[(df_mean_class['Unidade de execução'] == \"Tese em Serviço Social I\") & (df_mean_class['Turma'].isnull())]['mean'])"
   ]
  },
  {
   "cell_type": "code",
   "execution_count": 52,
   "id": "brutal-grill",
   "metadata": {},
   "outputs": [],
   "source": [
    "# schedule[(schedule['Code'] == 15464)]"
   ]
  },
  {
   "cell_type": "code",
   "execution_count": 54,
   "id": "timely-violation",
   "metadata": {},
   "outputs": [],
   "source": [
    "# df_solution"
   ]
  },
  {
   "cell_type": "code",
   "execution_count": 142,
   "id": "anticipated-christopher",
   "metadata": {},
   "outputs": [],
   "source": [
    "# intersect = pd.concat([schedule['Code'], df_solution['Code']]).drop_duplicates(keep=False)"
   ]
  },
  {
   "cell_type": "code",
   "execution_count": 55,
   "id": "wound-channel",
   "metadata": {},
   "outputs": [],
   "source": [
    "# intersect"
   ]
  },
  {
   "cell_type": "code",
   "execution_count": 56,
   "id": "compliant-birmingham",
   "metadata": {},
   "outputs": [],
   "source": [
    "# schedule[schedule['Code'] == 23674] "
   ]
  },
  {
   "cell_type": "code",
   "execution_count": 57,
   "id": "legislative-silver",
   "metadata": {},
   "outputs": [],
   "source": [
    "# df_count_class[df_count_class['Unidade de execução'] == \"Jornalismo de Dados e Visualização de Informação\"]"
   ]
  },
  {
   "cell_type": "code",
   "execution_count": 58,
   "id": "municipal-supervision",
   "metadata": {},
   "outputs": [],
   "source": [
    "# len(df_count_class['Unidade de execução'].unique())"
   ]
  },
  {
   "cell_type": "code",
   "execution_count": 59,
   "id": "hairy-server",
   "metadata": {},
   "outputs": [],
   "source": [
    "# len(schedule['Unidade de execução'].unique())"
   ]
  },
  {
   "cell_type": "code",
   "execution_count": 60,
   "id": "transsexual-butler",
   "metadata": {},
   "outputs": [],
   "source": [
    "# final_solution = df_class_init.merge(df_solution, how=\"inner\", left_on=\"Início\", right_on=\"Time\")#[['Code', \"Room Code\"]]\n",
    "# final_solution[final_solution.duplicated(['Code'])]"
   ]
  },
  {
   "cell_type": "code",
   "execution_count": 21,
   "id": "straight-market",
   "metadata": {},
   "outputs": [
    {
     "name": "stdout",
     "output_type": "stream",
     "text": [
      "Solution length: 23957 \n",
      "Needed length: 23957 \n",
      "Number duplicated code: 0\n"
     ]
    }
   ],
   "source": [
    "print('Solution length: %i ' % (len(df_solution)))\n",
    "print('Needed length: %i ' % (len(schedule)))\n",
    "print('Number duplicated code: %i' % (len(df_solution) - len(df_solution['Code'].unique())))"
   ]
  },
  {
   "cell_type": "code",
   "execution_count": 31,
   "id": "personal-receptor",
   "metadata": {},
   "outputs": [],
   "source": [
    "def merge_solution(df_schedule, df_solution, df_rooms):\n",
    "    df_sol_smp = df_solution.merge(df_rooms, how=\"inner\", left_on=\"Room Code\", right_on=\"Code\")[['Code_x', 'Nome sala', 'Capacidade Normal']].rename(columns={\"Code_x\": \"Class Code\"})\n",
    "    interesting_columns = df_schedule.columns.tolist() + [\"Nome sala\", \"Capacidade Normal\", \"Lotação_Default\"]\n",
    "    interesting_columns.remove(\"Code\")\n",
    "    interesting_columns.remove(\"Sala da aula\")\n",
    "    interesting_columns.remove(\"Lotação\")\n",
    "    df_join = df_schedule.merge(df_sol_smp, how=\"inner\", left_on=\"Code\", right_on=\"Class Code\").rename(columns={\"Lotação\": \"Lotação_Default\"})\n",
    "    df_final = df_join[interesting_columns].rename(columns={\"Nome sala\": \"Sala da aula\", \"Capacidade Normal\": \"Lotação\"}).to_csv(\"./output/final_schedule2.csv\", index=False, encoding=\"utf-8-sig\")"
   ]
  },
  {
   "cell_type": "code",
   "execution_count": 32,
   "id": "caroline-university",
   "metadata": {},
   "outputs": [],
   "source": [
    "merge_solution(schedule, df_solution, rooms)"
   ]
  },
  {
   "cell_type": "code",
   "execution_count": 61,
   "id": "constitutional-framing",
   "metadata": {},
   "outputs": [],
   "source": [
    "# schedule['Unidade de execução'].unique()"
   ]
  },
  {
   "cell_type": "code",
   "execution_count": 62,
   "id": "appropriate-commonwealth",
   "metadata": {},
   "outputs": [],
   "source": [
    "# schedule[(schedule['Unidade de execução'] == \"Redes Digitais II - Sistemas, Aplicações e Serviços\") & (schedule['Inscritos no turno (no 1º semestre é baseado em estimativas)'] == 16)]"
   ]
  },
  {
   "cell_type": "code",
   "execution_count": 179,
   "id": "solved-opening",
   "metadata": {},
   "outputs": [],
   "source": [
    "# schedule[schedule['Code'] == 15119]"
   ]
  },
  {
   "cell_type": "code",
   "execution_count": 177,
   "id": "subject-television",
   "metadata": {},
   "outputs": [],
   "source": [
    "# df_solution[df_solution['Code'] == 15119]"
   ]
  },
  {
   "cell_type": "code",
   "execution_count": 178,
   "id": "adult-burst",
   "metadata": {},
   "outputs": [],
   "source": [
    "# df_solution.groupby(['Code'])['Code'].count().sort_values(ascending=False)"
   ]
  },
  {
   "cell_type": "code",
   "execution_count": 44,
   "id": "synthetic-ebony",
   "metadata": {},
   "outputs": [],
   "source": [
    "# df_test = schedule[schedule['Unidade de execução'] == \"Contabilidade Financeira I\"]"
   ]
  },
  {
   "cell_type": "code",
   "execution_count": 53,
   "id": "equal-shipping",
   "metadata": {},
   "outputs": [],
   "source": [
    "# df_cf = schedule[schedule['Unidade de execução'] == \"Contabilidade Financeira I\"]"
   ]
  },
  {
   "cell_type": "code",
   "execution_count": 174,
   "id": "nutritional-mexican",
   "metadata": {},
   "outputs": [],
   "source": [
    "# df_cf[df_cf['Início'] == \"01/12/2015 08:00:00\"]"
   ]
  },
  {
   "cell_type": "code",
   "execution_count": 175,
   "id": "authentic-reader",
   "metadata": {},
   "outputs": [],
   "source": [
    "# df_test.groupby(['Início'])['Início'].count().sort_values(ascending=False).head(10)"
   ]
  },
  {
   "cell_type": "code",
   "execution_count": 176,
   "id": "brave-rotation",
   "metadata": {},
   "outputs": [],
   "source": [
    "# df_solution['Code']"
   ]
  },
  {
   "cell_type": "code",
   "execution_count": 63,
   "id": "through-practitioner",
   "metadata": {},
   "outputs": [],
   "source": [
    "# rooms_timetable = [[]] * len(rooms)\n",
    "# solution = [None] * len(df_count_class)\n",
    "# counter = 0\n",
    "# for row in df_count_class.values:\n",
    "#     name_class = row[0]\n",
    "#     class_timetable = schedule[schedule['Unidade de execução'] == name_class]['Início'].values.tolist()\n",
    "#     n_students = int(df_mean_class[df_mean_class['Unidade de execução'] == name_class]['mean'])\n",
    "#     # Get list of rooms that can handle the n_students\n",
    "#     list_rooms = get_rooms(n_students)\n",
    "#     # Select the first room of the list\n",
    "#     selected_room = choose_best_room(rooms_timetable, list_rooms, class_timetable)\n",
    "#     # Assign selected room for that class\n",
    "#     solution[counter] = selected_room\n",
    "#     # Update array_timetable\n",
    "#     rooms_timetable[selected_room] = rooms_timetable[selected_room] + class_timetable\n",
    "#     counter +=1\n",
    "# # Final result should a dataframe that contains assigned room for each class\n",
    "# # Join or create a new array to make the join"
   ]
  },
  {
   "cell_type": "code",
   "execution_count": 38,
   "id": "illegal-amazon",
   "metadata": {},
   "outputs": [],
   "source": [
    "# solution"
   ]
  },
  {
   "cell_type": "code",
   "execution_count": 39,
   "id": "constitutional-manitoba",
   "metadata": {},
   "outputs": [],
   "source": [
    "# rooms_timetable"
   ]
  },
  {
   "cell_type": "code",
   "execution_count": 64,
   "id": "textile-fiction",
   "metadata": {},
   "outputs": [],
   "source": [
    "# df_solution.drop_duplicates()"
   ]
  },
  {
   "cell_type": "code",
   "execution_count": 65,
   "id": "documentary-transparency",
   "metadata": {},
   "outputs": [],
   "source": [
    "# df_mean_class['Assigned Room'] = solution "
   ]
  },
  {
   "cell_type": "code",
   "execution_count": 146,
   "id": "expressed-colorado",
   "metadata": {},
   "outputs": [
    {
     "data": {
      "text/html": [
       "<div>\n",
       "<style scoped>\n",
       "    .dataframe tbody tr th:only-of-type {\n",
       "        vertical-align: middle;\n",
       "    }\n",
       "\n",
       "    .dataframe tbody tr th {\n",
       "        vertical-align: top;\n",
       "    }\n",
       "\n",
       "    .dataframe thead th {\n",
       "        text-align: right;\n",
       "    }\n",
       "</style>\n",
       "<table border=\"1\" class=\"dataframe\">\n",
       "  <thead>\n",
       "    <tr style=\"text-align: right;\">\n",
       "      <th></th>\n",
       "      <th>Unidade de execução</th>\n",
       "      <th>mean</th>\n",
       "      <th>Assigned Room</th>\n",
       "    </tr>\n",
       "  </thead>\n",
       "  <tbody>\n",
       "    <tr>\n",
       "      <th>0</th>\n",
       "      <td>A Europa e o Mundo Entre as Guerras</td>\n",
       "      <td>36.0</td>\n",
       "      <td>4</td>\n",
       "    </tr>\n",
       "    <tr>\n",
       "      <th>1</th>\n",
       "      <td>A Europa e o Mundo no Século XIX</td>\n",
       "      <td>15.0</td>\n",
       "      <td>4</td>\n",
       "    </tr>\n",
       "    <tr>\n",
       "      <th>2</th>\n",
       "      <td>A Investigação Sociológica em Portugal</td>\n",
       "      <td>9.0</td>\n",
       "      <td>4</td>\n",
       "    </tr>\n",
       "    <tr>\n",
       "      <th>3</th>\n",
       "      <td>Abordagens à Psicopatologia</td>\n",
       "      <td>47.0</td>\n",
       "      <td>81</td>\n",
       "    </tr>\n",
       "    <tr>\n",
       "      <th>4</th>\n",
       "      <td>Acompanhamento de Obra e Fotogrametria</td>\n",
       "      <td>26.0</td>\n",
       "      <td>81</td>\n",
       "    </tr>\n",
       "    <tr>\n",
       "      <th>...</th>\n",
       "      <td>...</td>\n",
       "      <td>...</td>\n",
       "      <td>...</td>\n",
       "    </tr>\n",
       "    <tr>\n",
       "      <th>754</th>\n",
       "      <td>Álgebra Linear, Geometria Analítica e Análise ...</td>\n",
       "      <td>56.0</td>\n",
       "      <td>76</td>\n",
       "    </tr>\n",
       "    <tr>\n",
       "      <th>755</th>\n",
       "      <td>Ética e Administração - Nível B</td>\n",
       "      <td>17.0</td>\n",
       "      <td>76</td>\n",
       "    </tr>\n",
       "    <tr>\n",
       "      <th>756</th>\n",
       "      <td>Ética e Deontologia Profissional</td>\n",
       "      <td>23.0</td>\n",
       "      <td>81</td>\n",
       "    </tr>\n",
       "    <tr>\n",
       "      <th>757</th>\n",
       "      <td>Ética e Desenvolvimento Profissional</td>\n",
       "      <td>13.0</td>\n",
       "      <td>18</td>\n",
       "    </tr>\n",
       "    <tr>\n",
       "      <th>758</th>\n",
       "      <td>Ética, Responsabilidade e Sustentabilidade Emp...</td>\n",
       "      <td>30.0</td>\n",
       "      <td>81</td>\n",
       "    </tr>\n",
       "  </tbody>\n",
       "</table>\n",
       "<p>759 rows × 3 columns</p>\n",
       "</div>"
      ],
      "text/plain": [
       "                                   Unidade de execução  mean  Assigned Room\n",
       "0                  A Europa e o Mundo Entre as Guerras  36.0              4\n",
       "1                     A Europa e o Mundo no Século XIX  15.0              4\n",
       "2               A Investigação Sociológica em Portugal   9.0              4\n",
       "3                          Abordagens à Psicopatologia  47.0             81\n",
       "4               Acompanhamento de Obra e Fotogrametria  26.0             81\n",
       "..                                                 ...   ...            ...\n",
       "754  Álgebra Linear, Geometria Analítica e Análise ...  56.0             76\n",
       "755                    Ética e Administração - Nível B  17.0             76\n",
       "756                   Ética e Deontologia Profissional  23.0             81\n",
       "757               Ética e Desenvolvimento Profissional  13.0             18\n",
       "758  Ética, Responsabilidade e Sustentabilidade Emp...  30.0             81\n",
       "\n",
       "[759 rows x 3 columns]"
      ]
     },
     "execution_count": 146,
     "metadata": {},
     "output_type": "execute_result"
    }
   ],
   "source": [
    "df_mean_class"
   ]
  },
  {
   "cell_type": "code",
   "execution_count": 120,
   "id": "unknown-confidentiality",
   "metadata": {},
   "outputs": [],
   "source": [
    "array_test = []\n",
    "for row in schedule.values:\n",
    "    class_name = row[1]\n",
    "    room_code = int(df_mean_class[df_mean_class['Unidade de execução'] == class_name]['Assigned Room'])\n",
    "    array_test.append(room_code)"
   ]
  },
  {
   "cell_type": "code",
   "execution_count": 147,
   "id": "competent-retail",
   "metadata": {},
   "outputs": [],
   "source": [
    "schedule['Assigned Room'] = array_test"
   ]
  },
  {
   "cell_type": "code",
   "execution_count": 12,
   "id": "peaceful-stability",
   "metadata": {},
   "outputs": [],
   "source": [
    "def concat_solution_schedule(df_mean_class, df_schedule, solution):\n",
    "    df = df_schedule.copy()\n",
    "    df_mean_class['Assigned Room'] = solution\n",
    "    array_solution = []\n",
    "    for row in df.values:\n",
    "        class_name = row[1]\n",
    "        room_code = int(df_mean_class[df_mean_class['Unidade de execução'] == class_name]['Assigned Room'])\n",
    "        array_solution.append(room_code)\n",
    "    df['Assigned Room'] = array_solution\n",
    "    return df"
   ]
  },
  {
   "cell_type": "code",
   "execution_count": 180,
   "id": "hispanic-absolute",
   "metadata": {},
   "outputs": [],
   "source": [
    "def generate_final_schedule(df_schedule, df_rooms):\n",
    "    interesting_columns = df_schedule.columns.tolist() + [\"Nome sala\", \"Capacidade Normal\", \"Lotação_Default\"]\n",
    "    interesting_columns.remove(\"Code\")\n",
    "    interesting_columns.remove(\"Assigned Room\")\n",
    "    interesting_columns.remove(\"Sala da aula\")\n",
    "    interesting_columns.remove(\"Lotação\")\n",
    "    df_join = df_schedule.merge(df_rooms, how=\"inner\", left_on=\"Assigned Room\", right_on=\"Code\").rename(columns={\"Lotação\": \"Lotação_Default\"})\n",
    "    df_final = df_join[interesting_columns].rename(columns={\"Nome sala\": \"Sala da aula\", \"Capacidade Normal\": \"Lotação\"}).to_csv(\"./output/final_schedule2.csv\", index=False, encoding=\"utf-8-sig\")"
   ]
  },
  {
   "cell_type": "code",
   "execution_count": 181,
   "id": "revolutionary-cause",
   "metadata": {},
   "outputs": [],
   "source": [
    "generate_final_schedule(schedule, rooms)"
   ]
  },
  {
   "cell_type": "code",
   "execution_count": 178,
   "id": "quarterly-scheme",
   "metadata": {},
   "outputs": [],
   "source": [
    "df_final.to_csv(\"./output/final_schedule2.csv\", index=False, encoding=\"utf-8-sig\")"
   ]
  },
  {
   "cell_type": "code",
   "execution_count": 143,
   "id": "resistant-chase",
   "metadata": {},
   "outputs": [],
   "source": [
    "def generate_final_solution(df_schedule, df_rooms):\n",
    "    all_classes = pd.read_csv('./data/clean_timetable.csv')\n",
    "    all_columns = all_classes.columns\n",
    "    df_final_schedule = df_schedule.merge(df_rooms, how=\"inner\",left_on='Assigned Room Code', right_on='Code').rename(columns={'Unidade de execução_x': 'Unidade de execução', 'Início_x': 'Início', 'Fim_x': 'Fim','Dia_x': 'Dia','Edifício': 'Edifício', 'Número Horas_x': 'Número Horas', 'Inscritos no turno (no 1º semestre é baseado em estimativas)_x': 'Inscritos no turno (no 1º semestre é baseado em estimativas)', 'Lotação_y': 'Lotação', 'Lotação_x': 'Lotação_Default', 'Sala da aula_y': 'Sala da aula'})\n",
    "    oficial_columns = all_columns.tolist() + ['Lotação_Default']\n",
    "    return df_final[oficial_columns].drop(['Número Horas', 'Semana', 'Ano', 'Code'], axis=1)#.to_csv(\"./output/final_schedule.csv\", index=False, encoding=\"utf-8-sig\")"
   ]
  },
  {
   "cell_type": "code",
   "execution_count": 144,
   "id": "worldwide-occurrence",
   "metadata": {},
   "outputs": [
    {
     "ename": "KeyError",
     "evalue": "\"['Dia da Semana', 'Características reais da sala', 'Turno com inscrições superiores à capacidade das salas', 'Características da sala pedida para a aula', 'Semana', 'Turnos com capacidade superior à capacidade das características das salas', 'Ano', 'Lotação', 'Code', 'Sala da aula', 'Curso', 'Turno', 'Turma', 'Lotação_Default'] not in index\"",
     "output_type": "error",
     "traceback": [
      "\u001b[1;31m---------------------------------------------------------------------------\u001b[0m",
      "\u001b[1;31mKeyError\u001b[0m                                  Traceback (most recent call last)",
      "\u001b[1;32m<ipython-input-144-c9321f9a2a51>\u001b[0m in \u001b[0;36m<module>\u001b[1;34m\u001b[0m\n\u001b[1;32m----> 1\u001b[1;33m \u001b[0mgenerated_schedule\u001b[0m \u001b[1;33m=\u001b[0m \u001b[0mgenerate_final_solution\u001b[0m\u001b[1;33m(\u001b[0m\u001b[0mdf_final\u001b[0m\u001b[1;33m,\u001b[0m \u001b[0mrooms\u001b[0m\u001b[1;33m)\u001b[0m\u001b[1;33m\u001b[0m\u001b[1;33m\u001b[0m\u001b[0m\n\u001b[0m",
      "\u001b[1;32m<ipython-input-143-c2ca29685bb0>\u001b[0m in \u001b[0;36mgenerate_final_solution\u001b[1;34m(df_schedule, df_rooms)\u001b[0m\n\u001b[0;32m      4\u001b[0m     \u001b[0mdf_final_schedule\u001b[0m \u001b[1;33m=\u001b[0m \u001b[0mdf_schedule\u001b[0m\u001b[1;33m.\u001b[0m\u001b[0mmerge\u001b[0m\u001b[1;33m(\u001b[0m\u001b[0mdf_rooms\u001b[0m\u001b[1;33m,\u001b[0m \u001b[0mhow\u001b[0m\u001b[1;33m=\u001b[0m\u001b[1;34m\"inner\"\u001b[0m\u001b[1;33m,\u001b[0m\u001b[0mleft_on\u001b[0m\u001b[1;33m=\u001b[0m\u001b[1;34m'Assigned Room Code'\u001b[0m\u001b[1;33m,\u001b[0m \u001b[0mright_on\u001b[0m\u001b[1;33m=\u001b[0m\u001b[1;34m'Code'\u001b[0m\u001b[1;33m)\u001b[0m\u001b[1;33m.\u001b[0m\u001b[0mrename\u001b[0m\u001b[1;33m(\u001b[0m\u001b[0mcolumns\u001b[0m\u001b[1;33m=\u001b[0m\u001b[1;33m{\u001b[0m\u001b[1;34m'Unidade de execução_x'\u001b[0m\u001b[1;33m:\u001b[0m \u001b[1;34m'Unidade de execução'\u001b[0m\u001b[1;33m,\u001b[0m \u001b[1;34m'Início_x'\u001b[0m\u001b[1;33m:\u001b[0m \u001b[1;34m'Início'\u001b[0m\u001b[1;33m,\u001b[0m \u001b[1;34m'Fim_x'\u001b[0m\u001b[1;33m:\u001b[0m \u001b[1;34m'Fim'\u001b[0m\u001b[1;33m,\u001b[0m\u001b[1;34m'Dia_x'\u001b[0m\u001b[1;33m:\u001b[0m \u001b[1;34m'Dia'\u001b[0m\u001b[1;33m,\u001b[0m\u001b[1;34m'Edifício'\u001b[0m\u001b[1;33m:\u001b[0m \u001b[1;34m'Edifício'\u001b[0m\u001b[1;33m,\u001b[0m \u001b[1;34m'Número Horas_x'\u001b[0m\u001b[1;33m:\u001b[0m \u001b[1;34m'Número Horas'\u001b[0m\u001b[1;33m,\u001b[0m \u001b[1;34m'Inscritos no turno (no 1º semestre é baseado em estimativas)_x'\u001b[0m\u001b[1;33m:\u001b[0m \u001b[1;34m'Inscritos no turno (no 1º semestre é baseado em estimativas)'\u001b[0m\u001b[1;33m,\u001b[0m \u001b[1;34m'Lotação_y'\u001b[0m\u001b[1;33m:\u001b[0m \u001b[1;34m'Lotação'\u001b[0m\u001b[1;33m,\u001b[0m \u001b[1;34m'Lotação_x'\u001b[0m\u001b[1;33m:\u001b[0m \u001b[1;34m'Lotação_Default'\u001b[0m\u001b[1;33m,\u001b[0m \u001b[1;34m'Sala da aula_y'\u001b[0m\u001b[1;33m:\u001b[0m \u001b[1;34m'Sala da aula'\u001b[0m\u001b[1;33m}\u001b[0m\u001b[1;33m)\u001b[0m\u001b[1;33m\u001b[0m\u001b[1;33m\u001b[0m\u001b[0m\n\u001b[0;32m      5\u001b[0m     \u001b[0moficial_columns\u001b[0m \u001b[1;33m=\u001b[0m \u001b[0mall_columns\u001b[0m\u001b[1;33m.\u001b[0m\u001b[0mtolist\u001b[0m\u001b[1;33m(\u001b[0m\u001b[1;33m)\u001b[0m \u001b[1;33m+\u001b[0m \u001b[1;33m[\u001b[0m\u001b[1;34m'Lotação_Default'\u001b[0m\u001b[1;33m]\u001b[0m\u001b[1;33m\u001b[0m\u001b[1;33m\u001b[0m\u001b[0m\n\u001b[1;32m----> 6\u001b[1;33m     \u001b[1;32mreturn\u001b[0m \u001b[0mdf_final\u001b[0m\u001b[1;33m[\u001b[0m\u001b[0moficial_columns\u001b[0m\u001b[1;33m]\u001b[0m\u001b[1;33m.\u001b[0m\u001b[0mdrop\u001b[0m\u001b[1;33m(\u001b[0m\u001b[1;33m[\u001b[0m\u001b[1;34m'Número Horas'\u001b[0m\u001b[1;33m,\u001b[0m \u001b[1;34m'Semana'\u001b[0m\u001b[1;33m,\u001b[0m \u001b[1;34m'Ano'\u001b[0m\u001b[1;33m,\u001b[0m \u001b[1;34m'Code'\u001b[0m\u001b[1;33m]\u001b[0m\u001b[1;33m,\u001b[0m \u001b[0maxis\u001b[0m\u001b[1;33m=\u001b[0m\u001b[1;36m1\u001b[0m\u001b[1;33m)\u001b[0m\u001b[1;31m#.to_csv(\"./output/final_schedule.csv\", index=False, encoding=\"utf-8-sig\")\u001b[0m\u001b[1;33m\u001b[0m\u001b[1;33m\u001b[0m\u001b[0m\n\u001b[0m",
      "\u001b[1;32m~\\miniconda3\\lib\\site-packages\\pandas\\core\\frame.py\u001b[0m in \u001b[0;36m__getitem__\u001b[1;34m(self, key)\u001b[0m\n\u001b[0;32m   2906\u001b[0m             \u001b[1;32mif\u001b[0m \u001b[0mis_iterator\u001b[0m\u001b[1;33m(\u001b[0m\u001b[0mkey\u001b[0m\u001b[1;33m)\u001b[0m\u001b[1;33m:\u001b[0m\u001b[1;33m\u001b[0m\u001b[1;33m\u001b[0m\u001b[0m\n\u001b[0;32m   2907\u001b[0m                 \u001b[0mkey\u001b[0m \u001b[1;33m=\u001b[0m \u001b[0mlist\u001b[0m\u001b[1;33m(\u001b[0m\u001b[0mkey\u001b[0m\u001b[1;33m)\u001b[0m\u001b[1;33m\u001b[0m\u001b[1;33m\u001b[0m\u001b[0m\n\u001b[1;32m-> 2908\u001b[1;33m             \u001b[0mindexer\u001b[0m \u001b[1;33m=\u001b[0m \u001b[0mself\u001b[0m\u001b[1;33m.\u001b[0m\u001b[0mloc\u001b[0m\u001b[1;33m.\u001b[0m\u001b[0m_get_listlike_indexer\u001b[0m\u001b[1;33m(\u001b[0m\u001b[0mkey\u001b[0m\u001b[1;33m,\u001b[0m \u001b[0maxis\u001b[0m\u001b[1;33m=\u001b[0m\u001b[1;36m1\u001b[0m\u001b[1;33m,\u001b[0m \u001b[0mraise_missing\u001b[0m\u001b[1;33m=\u001b[0m\u001b[1;32mTrue\u001b[0m\u001b[1;33m)\u001b[0m\u001b[1;33m[\u001b[0m\u001b[1;36m1\u001b[0m\u001b[1;33m]\u001b[0m\u001b[1;33m\u001b[0m\u001b[1;33m\u001b[0m\u001b[0m\n\u001b[0m\u001b[0;32m   2909\u001b[0m \u001b[1;33m\u001b[0m\u001b[0m\n\u001b[0;32m   2910\u001b[0m         \u001b[1;31m# take() does not accept boolean indexers\u001b[0m\u001b[1;33m\u001b[0m\u001b[1;33m\u001b[0m\u001b[1;33m\u001b[0m\u001b[0m\n",
      "\u001b[1;32m~\\miniconda3\\lib\\site-packages\\pandas\\core\\indexing.py\u001b[0m in \u001b[0;36m_get_listlike_indexer\u001b[1;34m(self, key, axis, raise_missing)\u001b[0m\n\u001b[0;32m   1252\u001b[0m             \u001b[0mkeyarr\u001b[0m\u001b[1;33m,\u001b[0m \u001b[0mindexer\u001b[0m\u001b[1;33m,\u001b[0m \u001b[0mnew_indexer\u001b[0m \u001b[1;33m=\u001b[0m \u001b[0max\u001b[0m\u001b[1;33m.\u001b[0m\u001b[0m_reindex_non_unique\u001b[0m\u001b[1;33m(\u001b[0m\u001b[0mkeyarr\u001b[0m\u001b[1;33m)\u001b[0m\u001b[1;33m\u001b[0m\u001b[1;33m\u001b[0m\u001b[0m\n\u001b[0;32m   1253\u001b[0m \u001b[1;33m\u001b[0m\u001b[0m\n\u001b[1;32m-> 1254\u001b[1;33m         \u001b[0mself\u001b[0m\u001b[1;33m.\u001b[0m\u001b[0m_validate_read_indexer\u001b[0m\u001b[1;33m(\u001b[0m\u001b[0mkeyarr\u001b[0m\u001b[1;33m,\u001b[0m \u001b[0mindexer\u001b[0m\u001b[1;33m,\u001b[0m \u001b[0maxis\u001b[0m\u001b[1;33m,\u001b[0m \u001b[0mraise_missing\u001b[0m\u001b[1;33m=\u001b[0m\u001b[0mraise_missing\u001b[0m\u001b[1;33m)\u001b[0m\u001b[1;33m\u001b[0m\u001b[1;33m\u001b[0m\u001b[0m\n\u001b[0m\u001b[0;32m   1255\u001b[0m         \u001b[1;32mreturn\u001b[0m \u001b[0mkeyarr\u001b[0m\u001b[1;33m,\u001b[0m \u001b[0mindexer\u001b[0m\u001b[1;33m\u001b[0m\u001b[1;33m\u001b[0m\u001b[0m\n\u001b[0;32m   1256\u001b[0m \u001b[1;33m\u001b[0m\u001b[0m\n",
      "\u001b[1;32m~\\miniconda3\\lib\\site-packages\\pandas\\core\\indexing.py\u001b[0m in \u001b[0;36m_validate_read_indexer\u001b[1;34m(self, key, indexer, axis, raise_missing)\u001b[0m\n\u001b[0;32m   1302\u001b[0m             \u001b[1;32mif\u001b[0m \u001b[0mraise_missing\u001b[0m\u001b[1;33m:\u001b[0m\u001b[1;33m\u001b[0m\u001b[1;33m\u001b[0m\u001b[0m\n\u001b[0;32m   1303\u001b[0m                 \u001b[0mnot_found\u001b[0m \u001b[1;33m=\u001b[0m \u001b[0mlist\u001b[0m\u001b[1;33m(\u001b[0m\u001b[0mset\u001b[0m\u001b[1;33m(\u001b[0m\u001b[0mkey\u001b[0m\u001b[1;33m)\u001b[0m \u001b[1;33m-\u001b[0m \u001b[0mset\u001b[0m\u001b[1;33m(\u001b[0m\u001b[0max\u001b[0m\u001b[1;33m)\u001b[0m\u001b[1;33m)\u001b[0m\u001b[1;33m\u001b[0m\u001b[1;33m\u001b[0m\u001b[0m\n\u001b[1;32m-> 1304\u001b[1;33m                 \u001b[1;32mraise\u001b[0m \u001b[0mKeyError\u001b[0m\u001b[1;33m(\u001b[0m\u001b[1;34mf\"{not_found} not in index\"\u001b[0m\u001b[1;33m)\u001b[0m\u001b[1;33m\u001b[0m\u001b[1;33m\u001b[0m\u001b[0m\n\u001b[0m\u001b[0;32m   1305\u001b[0m \u001b[1;33m\u001b[0m\u001b[0m\n\u001b[0;32m   1306\u001b[0m             \u001b[1;31m# we skip the warning on Categorical\u001b[0m\u001b[1;33m\u001b[0m\u001b[1;33m\u001b[0m\u001b[1;33m\u001b[0m\u001b[0m\n",
      "\u001b[1;31mKeyError\u001b[0m: \"['Dia da Semana', 'Características reais da sala', 'Turno com inscrições superiores à capacidade das salas', 'Características da sala pedida para a aula', 'Semana', 'Turnos com capacidade superior à capacidade das características das salas', 'Ano', 'Lotação', 'Code', 'Sala da aula', 'Curso', 'Turno', 'Turma', 'Lotação_Default'] not in index\""
     ]
    }
   ],
   "source": [
    "generated_schedule = generate_final_solution(df_final, rooms)"
   ]
  },
  {
   "cell_type": "code",
   "execution_count": 134,
   "id": "different-leeds",
   "metadata": {},
   "outputs": [],
   "source": [
    "df_final2 = df_final.merge(rooms, how=\"inner\",left_on='Code', right_on='Code').rename(columns={'Unidade de execução_x': 'Unidade de execução', 'Início_x': 'Início', 'Fim_x': 'Fim','Dia_x': 'Dia','Edifício': 'Edifício', 'Número Horas_x': 'Número Horas', 'Inscritos no turno (no 1º semestre é baseado em estimativas)_x': 'Inscritos no turno (no 1º semestre é baseado em estimativas)', 'Lotação_y': 'Lotação', 'Lotação_x': 'Lotação_Default', 'Sala da aula_y': 'Sala da aula'})"
   ]
  },
  {
   "cell_type": "code",
   "execution_count": 137,
   "id": "plastic-integral",
   "metadata": {},
   "outputs": [
    {
     "data": {
      "text/plain": [
       "0        C6.02\n",
       "1        C6.02\n",
       "2        C6.02\n",
       "3        C6.02\n",
       "4        C6.02\n",
       "         ...  \n",
       "23952    D0.03\n",
       "23953    D0.03\n",
       "23954    D0.03\n",
       "23955    D0.03\n",
       "23956    D0.03\n",
       "Name: Nome sala_y, Length: 23957, dtype: object"
      ]
     },
     "execution_count": 137,
     "metadata": {},
     "output_type": "execute_result"
    }
   ],
   "source": [
    "df_final2['Nome sala_y']"
   ]
  },
  {
   "cell_type": "code",
   "execution_count": null,
   "id": "contemporary-glass",
   "metadata": {},
   "outputs": [],
   "source": []
  }
 ],
 "metadata": {
  "kernelspec": {
   "display_name": "Python 3",
   "language": "python",
   "name": "python3"
  },
  "language_info": {
   "codemirror_mode": {
    "name": "ipython",
    "version": 3
   },
   "file_extension": ".py",
   "mimetype": "text/x-python",
   "name": "python",
   "nbconvert_exporter": "python",
   "pygments_lexer": "ipython3",
   "version": "3.8.5"
  }
 },
 "nbformat": 4,
 "nbformat_minor": 5
}
