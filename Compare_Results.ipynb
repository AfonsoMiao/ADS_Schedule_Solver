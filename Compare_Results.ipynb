{
 "cells": [
  {
   "cell_type": "code",
   "execution_count": 1,
   "id": "useful-chicken",
   "metadata": {},
   "outputs": [],
   "source": [
    "import pandas as pd\n",
    "import numpy as np\n",
    "import random\n",
    "import math\n",
    "from datetime import datetime, timedelta\n",
    "from os import listdir\n",
    "from os.path import isfile, join"
   ]
  },
  {
   "cell_type": "code",
   "execution_count": 2,
   "id": "rubber-pierre",
   "metadata": {},
   "outputs": [],
   "source": [
    "df_generated_schedule = pd.read_csv('./output/final_schedule.csv')\n",
    "total_number_classes = len(df_generated_schedule)"
   ]
  },
  {
   "cell_type": "code",
   "execution_count": 3,
   "id": "powered-dispute",
   "metadata": {},
   "outputs": [],
   "source": [
    "number_exceeded_classes = len(df_generated_schedule[df_generated_schedule['Lotação'] < df_generated_schedule['Lotação_Default']])"
   ]
  },
  {
   "cell_type": "code",
   "execution_count": 4,
   "id": "crude-terrain",
   "metadata": {},
   "outputs": [
    {
     "name": "stdout",
     "output_type": "stream",
     "text": [
      "Number of classes that capacity are lower than default:  7915\n",
      "Percentage:  33.03836039570898\n"
     ]
    }
   ],
   "source": [
    "print('Number of classes that capacity are lower than default: ', str(number_exceeded_classes))\n",
    "print('Percentage: ', str((number_exceeded_classes*100)/total_number_classes))"
   ]
  },
  {
   "cell_type": "code",
   "execution_count": 5,
   "id": "70e04ad0",
   "metadata": {},
   "outputs": [
    {
     "name": "stdout",
     "output_type": "stream",
     "text": [
      "Number of classes at same room:  0\n"
     ]
    }
   ],
   "source": [
    "df = df_generated_schedule.value_counts(subset=['Sala da aula', 'Início'], sort=True)\n",
    "df_generated_schedule['Início'] =  pd.to_datetime(df_generated_schedule['Início'], format='%d/%m/%Y %H:%M:%S')\n",
    "filtered_array = df.values[df.values > 1]\n",
    "print('Number of classes at same room: ', str(len(filtered_array)))"
   ]
  },
  {
   "cell_type": "code",
   "execution_count": 6,
   "id": "homeless-cyprus",
   "metadata": {},
   "outputs": [
    {
     "name": "stdout",
     "output_type": "stream",
     "text": [
      "Number classes exceeded rooms capacity:  230\n"
     ]
    }
   ],
   "source": [
    "df_generated_schedule['Lotação_Diff'] = df_generated_schedule[\"Lotação\"] - df_generated_schedule[\"Inscritos no turno (no 1º semestre é baseado em estimativas)\"]\n",
    "print('Number classes exceeded rooms capacity: ', len(df_generated_schedule[df_generated_schedule['Lotação_Diff'] < -5]))"
   ]
  },
  {
   "cell_type": "code",
   "execution_count": 7,
   "id": "attended-barcelona",
   "metadata": {},
   "outputs": [
    {
     "data": {
      "text/plain": [
       "Index(['Curso', 'Unidade de execução', 'Turno', 'Turma',\n",
       "       'Inscritos no turno (no 1º semestre é baseado em estimativas)',\n",
       "       'Turnos com capacidade superior à capacidade das características das salas',\n",
       "       'Turno com inscrições superiores à capacidade das salas',\n",
       "       'Dia da Semana', 'Início', 'Fim', 'Dia',\n",
       "       'Características da sala pedida para a aula', 'Sala da aula', 'Lotação',\n",
       "       'Características reais da sala', 'Lotação_Default', 'Lotação_Diff'],\n",
       "      dtype='object')"
      ]
     },
     "execution_count": 7,
     "metadata": {},
     "output_type": "execute_result"
    }
   ],
   "source": [
    "df_generated_schedule.columns"
   ]
  },
  {
   "cell_type": "code",
   "execution_count": 8,
   "id": "abroad-hayes",
   "metadata": {},
   "outputs": [],
   "source": [
    "interesting_columns = ['Curso', 'Unidade de execução', 'Inscritos no turno (no 1º semestre é baseado em estimativas)', 'Início', 'Fim', 'Dia', 'Sala da aula', 'Lotação', 'Lotação_Default', 'Lotação_Diff']"
   ]
  },
  {
   "cell_type": "code",
   "execution_count": 9,
   "id": "expressed-accident",
   "metadata": {},
   "outputs": [
    {
     "data": {
      "text/html": [
       "<div>\n",
       "<style scoped>\n",
       "    .dataframe tbody tr th:only-of-type {\n",
       "        vertical-align: middle;\n",
       "    }\n",
       "\n",
       "    .dataframe tbody tr th {\n",
       "        vertical-align: top;\n",
       "    }\n",
       "\n",
       "    .dataframe thead th {\n",
       "        text-align: right;\n",
       "    }\n",
       "</style>\n",
       "<table border=\"1\" class=\"dataframe\">\n",
       "  <thead>\n",
       "    <tr style=\"text-align: right;\">\n",
       "      <th></th>\n",
       "      <th>Curso</th>\n",
       "      <th>Unidade de execução</th>\n",
       "      <th>Inscritos no turno (no 1º semestre é baseado em estimativas)</th>\n",
       "      <th>Início</th>\n",
       "      <th>Fim</th>\n",
       "      <th>Dia</th>\n",
       "      <th>Sala da aula</th>\n",
       "      <th>Lotação</th>\n",
       "      <th>Lotação_Default</th>\n",
       "      <th>Lotação_Diff</th>\n",
       "    </tr>\n",
       "  </thead>\n",
       "  <tbody>\n",
       "    <tr>\n",
       "      <th>4989</th>\n",
       "      <td>LETI</td>\n",
       "      <td>Análise Matemática I</td>\n",
       "      <td>71.0</td>\n",
       "      <td>2015-09-23 14:30:00</td>\n",
       "      <td>23/09/2015 16:00:00</td>\n",
       "      <td>23/09/2015</td>\n",
       "      <td>B3.01</td>\n",
       "      <td>60</td>\n",
       "      <td>72.0</td>\n",
       "      <td>-11.0</td>\n",
       "    </tr>\n",
       "    <tr>\n",
       "      <th>4988</th>\n",
       "      <td>LETI</td>\n",
       "      <td>Análise Matemática I</td>\n",
       "      <td>71.0</td>\n",
       "      <td>2015-09-30 14:30:00</td>\n",
       "      <td>30/09/2015 16:00:00</td>\n",
       "      <td>30/09/2015</td>\n",
       "      <td>C5.05</td>\n",
       "      <td>34</td>\n",
       "      <td>72.0</td>\n",
       "      <td>-37.0</td>\n",
       "    </tr>\n",
       "    <tr>\n",
       "      <th>4976</th>\n",
       "      <td>LETI</td>\n",
       "      <td>Análise Matemática I</td>\n",
       "      <td>71.0</td>\n",
       "      <td>2015-10-01 14:30:00</td>\n",
       "      <td>01/10/2015 16:00:00</td>\n",
       "      <td>01/10/2015</td>\n",
       "      <td>B2.01</td>\n",
       "      <td>50</td>\n",
       "      <td>70.0</td>\n",
       "      <td>-21.0</td>\n",
       "    </tr>\n",
       "    <tr>\n",
       "      <th>4987</th>\n",
       "      <td>LETI</td>\n",
       "      <td>Análise Matemática I</td>\n",
       "      <td>71.0</td>\n",
       "      <td>2015-10-07 14:30:00</td>\n",
       "      <td>07/10/2015 16:00:00</td>\n",
       "      <td>07/10/2015</td>\n",
       "      <td>0S01</td>\n",
       "      <td>41</td>\n",
       "      <td>72.0</td>\n",
       "      <td>-30.0</td>\n",
       "    </tr>\n",
       "    <tr>\n",
       "      <th>4975</th>\n",
       "      <td>LETI</td>\n",
       "      <td>Análise Matemática I</td>\n",
       "      <td>71.0</td>\n",
       "      <td>2015-10-08 14:30:00</td>\n",
       "      <td>08/10/2015 16:00:00</td>\n",
       "      <td>08/10/2015</td>\n",
       "      <td>1E06</td>\n",
       "      <td>50</td>\n",
       "      <td>70.0</td>\n",
       "      <td>-21.0</td>\n",
       "    </tr>\n",
       "    <tr>\n",
       "      <th>...</th>\n",
       "      <td>...</td>\n",
       "      <td>...</td>\n",
       "      <td>...</td>\n",
       "      <td>...</td>\n",
       "      <td>...</td>\n",
       "      <td>...</td>\n",
       "      <td>...</td>\n",
       "      <td>...</td>\n",
       "      <td>...</td>\n",
       "      <td>...</td>\n",
       "    </tr>\n",
       "    <tr>\n",
       "      <th>12611</th>\n",
       "      <td>LETI</td>\n",
       "      <td>Álgebra Linear, Geometria Analítica e Análise ...</td>\n",
       "      <td>63.0</td>\n",
       "      <td>2015-11-30 16:00:00</td>\n",
       "      <td>30/11/2015 17:30:00</td>\n",
       "      <td>30/11/2015</td>\n",
       "      <td>2E04</td>\n",
       "      <td>50</td>\n",
       "      <td>56.0</td>\n",
       "      <td>-13.0</td>\n",
       "    </tr>\n",
       "    <tr>\n",
       "      <th>11653</th>\n",
       "      <td>LEI</td>\n",
       "      <td>Álgebra Linear, Geometria Analítica e Análise ...</td>\n",
       "      <td>58.0</td>\n",
       "      <td>2015-12-02 16:00:00</td>\n",
       "      <td>02/12/2015 17:30:00</td>\n",
       "      <td>02/12/2015</td>\n",
       "      <td>B2.02</td>\n",
       "      <td>52</td>\n",
       "      <td>60.0</td>\n",
       "      <td>-6.0</td>\n",
       "    </tr>\n",
       "    <tr>\n",
       "      <th>12622</th>\n",
       "      <td>LETI</td>\n",
       "      <td>Álgebra Linear, Geometria Analítica e Análise ...</td>\n",
       "      <td>63.0</td>\n",
       "      <td>2015-12-10 16:00:00</td>\n",
       "      <td>10/12/2015 17:30:00</td>\n",
       "      <td>10/12/2015</td>\n",
       "      <td>C5.02</td>\n",
       "      <td>50</td>\n",
       "      <td>70.0</td>\n",
       "      <td>-13.0</td>\n",
       "    </tr>\n",
       "    <tr>\n",
       "      <th>12609</th>\n",
       "      <td>LETI</td>\n",
       "      <td>Álgebra Linear, Geometria Analítica e Análise ...</td>\n",
       "      <td>63.0</td>\n",
       "      <td>2015-12-14 16:00:00</td>\n",
       "      <td>14/12/2015 17:30:00</td>\n",
       "      <td>14/12/2015</td>\n",
       "      <td>2E10</td>\n",
       "      <td>48</td>\n",
       "      <td>60.0</td>\n",
       "      <td>-15.0</td>\n",
       "    </tr>\n",
       "    <tr>\n",
       "      <th>12621</th>\n",
       "      <td>LETI</td>\n",
       "      <td>Álgebra Linear, Geometria Analítica e Análise ...</td>\n",
       "      <td>63.0</td>\n",
       "      <td>2015-12-17 16:00:00</td>\n",
       "      <td>17/12/2015 17:30:00</td>\n",
       "      <td>17/12/2015</td>\n",
       "      <td>AA3.28</td>\n",
       "      <td>48</td>\n",
       "      <td>60.0</td>\n",
       "      <td>-15.0</td>\n",
       "    </tr>\n",
       "  </tbody>\n",
       "</table>\n",
       "<p>230 rows × 10 columns</p>\n",
       "</div>"
      ],
      "text/plain": [
       "      Curso                                Unidade de execução  \\\n",
       "4989   LETI                               Análise Matemática I   \n",
       "4988   LETI                               Análise Matemática I   \n",
       "4976   LETI                               Análise Matemática I   \n",
       "4987   LETI                               Análise Matemática I   \n",
       "4975   LETI                               Análise Matemática I   \n",
       "...     ...                                                ...   \n",
       "12611  LETI  Álgebra Linear, Geometria Analítica e Análise ...   \n",
       "11653   LEI  Álgebra Linear, Geometria Analítica e Análise ...   \n",
       "12622  LETI  Álgebra Linear, Geometria Analítica e Análise ...   \n",
       "12609  LETI  Álgebra Linear, Geometria Analítica e Análise ...   \n",
       "12621  LETI  Álgebra Linear, Geometria Analítica e Análise ...   \n",
       "\n",
       "       Inscritos no turno (no 1º semestre é baseado em estimativas)  \\\n",
       "4989                                                71.0              \n",
       "4988                                                71.0              \n",
       "4976                                                71.0              \n",
       "4987                                                71.0              \n",
       "4975                                                71.0              \n",
       "...                                                  ...              \n",
       "12611                                               63.0              \n",
       "11653                                               58.0              \n",
       "12622                                               63.0              \n",
       "12609                                               63.0              \n",
       "12621                                               63.0              \n",
       "\n",
       "                   Início                  Fim         Dia Sala da aula  \\\n",
       "4989  2015-09-23 14:30:00  23/09/2015 16:00:00  23/09/2015        B3.01   \n",
       "4988  2015-09-30 14:30:00  30/09/2015 16:00:00  30/09/2015        C5.05   \n",
       "4976  2015-10-01 14:30:00  01/10/2015 16:00:00  01/10/2015        B2.01   \n",
       "4987  2015-10-07 14:30:00  07/10/2015 16:00:00  07/10/2015         0S01   \n",
       "4975  2015-10-08 14:30:00  08/10/2015 16:00:00  08/10/2015         1E06   \n",
       "...                   ...                  ...         ...          ...   \n",
       "12611 2015-11-30 16:00:00  30/11/2015 17:30:00  30/11/2015         2E04   \n",
       "11653 2015-12-02 16:00:00  02/12/2015 17:30:00  02/12/2015        B2.02   \n",
       "12622 2015-12-10 16:00:00  10/12/2015 17:30:00  10/12/2015        C5.02   \n",
       "12609 2015-12-14 16:00:00  14/12/2015 17:30:00  14/12/2015         2E10   \n",
       "12621 2015-12-17 16:00:00  17/12/2015 17:30:00  17/12/2015       AA3.28   \n",
       "\n",
       "       Lotação  Lotação_Default  Lotação_Diff  \n",
       "4989        60             72.0         -11.0  \n",
       "4988        34             72.0         -37.0  \n",
       "4976        50             70.0         -21.0  \n",
       "4987        41             72.0         -30.0  \n",
       "4975        50             70.0         -21.0  \n",
       "...        ...              ...           ...  \n",
       "12611       50             56.0         -13.0  \n",
       "11653       52             60.0          -6.0  \n",
       "12622       50             70.0         -13.0  \n",
       "12609       48             60.0         -15.0  \n",
       "12621       48             60.0         -15.0  \n",
       "\n",
       "[230 rows x 10 columns]"
      ]
     },
     "execution_count": 9,
     "metadata": {},
     "output_type": "execute_result"
    }
   ],
   "source": [
    "df_generated_schedule[(df_generated_schedule['Lotação_Diff'] < -5)][interesting_columns].sort_values(['Unidade de execução', 'Início'])"
   ]
  },
  {
   "cell_type": "code",
   "execution_count": null,
   "id": "intended-hearts",
   "metadata": {},
   "outputs": [],
   "source": []
  }
 ],
 "metadata": {
  "kernelspec": {
   "display_name": "Python 3 (ipykernel)",
   "language": "python",
   "name": "python3"
  },
  "language_info": {
   "codemirror_mode": {
    "name": "ipython",
    "version": 3
   },
   "file_extension": ".py",
   "mimetype": "text/x-python",
   "name": "python",
   "nbconvert_exporter": "python",
   "pygments_lexer": "ipython3",
   "version": "3.10.0"
  }
 },
 "nbformat": 4,
 "nbformat_minor": 5
}
