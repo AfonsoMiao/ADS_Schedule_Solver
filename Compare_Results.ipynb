{
 "cells": [
  {
   "cell_type": "code",
   "execution_count": 1,
   "id": "useful-chicken",
   "metadata": {},
   "outputs": [],
   "source": [
    "import pandas as pd\n",
    "import numpy as np\n",
    "import random\n",
    "import math\n",
    "from datetime import datetime, timedelta\n",
    "from os import listdir\n",
    "from os.path import isfile, join"
   ]
  },
  {
   "cell_type": "code",
   "execution_count": 2,
   "id": "rubber-pierre",
   "metadata": {},
   "outputs": [],
   "source": [
    "df_generated_schedule = pd.read_csv('./output/final_schedule.csv')\n",
    "total_number_classes = len(df_generated_schedule)"
   ]
  },
  {
   "cell_type": "code",
   "execution_count": 3,
   "id": "powered-dispute",
   "metadata": {},
   "outputs": [],
   "source": [
    "number_exceeded_classes = len(df_generated_schedule[df_generated_schedule['Lotação'] < df_generated_schedule['Lotação_Default']])"
   ]
  },
  {
   "cell_type": "code",
   "execution_count": 4,
   "id": "crude-terrain",
   "metadata": {},
   "outputs": [
    {
     "name": "stdout",
     "output_type": "stream",
     "text": [
      "Number of classes that capacity are lower than default:  7852\n",
      "Percentage:  32.775389239053304\n"
     ]
    }
   ],
   "source": [
    "print('Number of classes that capacity are lower than default: ', str(number_exceeded_classes))\n",
    "print('Percentage: ', str((number_exceeded_classes*100)/total_number_classes))"
   ]
  },
  {
   "cell_type": "code",
   "execution_count": 5,
   "id": "70e04ad0",
   "metadata": {},
   "outputs": [
    {
     "name": "stdout",
     "output_type": "stream",
     "text": [
      "Number of classes at same room:  1\n"
     ]
    }
   ],
   "source": [
    "df = df_generated_schedule.value_counts(subset=['Sala da aula', 'Início'], sort=True)\n",
    "df_generated_schedule['Início'] =  pd.to_datetime(df_generated_schedule['Início'], format='%d/%m/%Y %H:%M:%S')\n",
    "filtered_array = df.values[df.values > 1]\n",
    "print('Number of classes at same room: ', str(len(filtered_array)))"
   ]
  },
  {
   "cell_type": "code",
   "execution_count": 6,
   "id": "homeless-cyprus",
   "metadata": {},
   "outputs": [
    {
     "name": "stdout",
     "output_type": "stream",
     "text": [
      "Number classes exceeded rooms capacity:  221\n"
     ]
    }
   ],
   "source": [
    "df_generated_schedule['Lotação_Diff'] = df_generated_schedule[\"Lotação\"] - df_generated_schedule[\"Inscritos no turno (no 1º semestre é baseado em estimativas)\"]\n",
    "print('Number classes exceeded rooms capacity: ', len(df_generated_schedule[df_generated_schedule['Lotação_Diff'] < -5]))"
   ]
  },
  {
   "cell_type": "code",
   "execution_count": 7,
   "id": "attended-barcelona",
   "metadata": {},
   "outputs": [
    {
     "data": {
      "text/plain": [
       "Index(['Curso', 'Unidade de execução', 'Turno', 'Turma',\n",
       "       'Inscritos no turno (no 1º semestre é baseado em estimativas)',\n",
       "       'Turnos com capacidade superior à capacidade das características das salas',\n",
       "       'Turno com inscrições superiores à capacidade das salas',\n",
       "       'Dia da Semana', 'Início', 'Fim', 'Dia',\n",
       "       'Características da sala pedida para a aula', 'Sala da aula', 'Lotação',\n",
       "       'Características reais da sala', 'Lotação_Default', 'Lotação_Diff'],\n",
       "      dtype='object')"
      ]
     },
     "execution_count": 7,
     "metadata": {},
     "output_type": "execute_result"
    }
   ],
   "source": [
    "df_generated_schedule.columns"
   ]
  },
  {
   "cell_type": "code",
   "execution_count": 8,
   "id": "abroad-hayes",
   "metadata": {},
   "outputs": [],
   "source": [
    "interesting_columns = ['Curso', 'Unidade de execução', 'Inscritos no turno (no 1º semestre é baseado em estimativas)', 'Início', 'Fim', 'Dia', 'Sala da aula', 'Lotação', 'Lotação_Default', 'Lotação_Diff']"
   ]
  },
  {
   "cell_type": "code",
   "execution_count": 10,
   "id": "expressed-accident",
   "metadata": {},
   "outputs": [
    {
     "data": {
      "text/html": [
       "<div>\n",
       "<style scoped>\n",
       "    .dataframe tbody tr th:only-of-type {\n",
       "        vertical-align: middle;\n",
       "    }\n",
       "\n",
       "    .dataframe tbody tr th {\n",
       "        vertical-align: top;\n",
       "    }\n",
       "\n",
       "    .dataframe thead th {\n",
       "        text-align: right;\n",
       "    }\n",
       "</style>\n",
       "<table border=\"1\" class=\"dataframe\">\n",
       "  <thead>\n",
       "    <tr style=\"text-align: right;\">\n",
       "      <th></th>\n",
       "      <th>Curso</th>\n",
       "      <th>Unidade de execução</th>\n",
       "      <th>Inscritos no turno (no 1º semestre é baseado em estimativas)</th>\n",
       "      <th>Início</th>\n",
       "      <th>Fim</th>\n",
       "      <th>Dia</th>\n",
       "      <th>Sala da aula</th>\n",
       "      <th>Lotação</th>\n",
       "      <th>Lotação_Default</th>\n",
       "      <th>Lotação_Diff</th>\n",
       "    </tr>\n",
       "  </thead>\n",
       "  <tbody>\n",
       "    <tr>\n",
       "      <th>22825</th>\n",
       "      <td>LE</td>\n",
       "      <td>Contabilidade Financeira I</td>\n",
       "      <td>102.0</td>\n",
       "      <td>2015-09-21 09:30:00</td>\n",
       "      <td>21/09/2015 11:00:00</td>\n",
       "      <td>21/09/2015</td>\n",
       "      <td>C5.05</td>\n",
       "      <td>34</td>\n",
       "      <td>129.0</td>\n",
       "      <td>-68.0</td>\n",
       "    </tr>\n",
       "    <tr>\n",
       "      <th>4938</th>\n",
       "      <td>LG</td>\n",
       "      <td>Modelos Organizacionais</td>\n",
       "      <td>88.0</td>\n",
       "      <td>2015-10-06 16:00:00</td>\n",
       "      <td>06/10/2015 17:30:00</td>\n",
       "      <td>06/10/2015</td>\n",
       "      <td>D1.12</td>\n",
       "      <td>27</td>\n",
       "      <td>129.0</td>\n",
       "      <td>-61.0</td>\n",
       "    </tr>\n",
       "    <tr>\n",
       "      <th>4038</th>\n",
       "      <td>LETI-PL, LEI-PL, LIGE-PL</td>\n",
       "      <td>Fundamentos de Bases de Dados</td>\n",
       "      <td>71.0</td>\n",
       "      <td>2015-10-21 19:30:00</td>\n",
       "      <td>21/10/2015 21:00:00</td>\n",
       "      <td>21/10/2015</td>\n",
       "      <td>B1.01</td>\n",
       "      <td>12</td>\n",
       "      <td>50.0</td>\n",
       "      <td>-59.0</td>\n",
       "    </tr>\n",
       "    <tr>\n",
       "      <th>14800</th>\n",
       "      <td>LG</td>\n",
       "      <td>Macroeconomia</td>\n",
       "      <td>83.0</td>\n",
       "      <td>2015-11-16 14:30:00</td>\n",
       "      <td>16/11/2015 16:00:00</td>\n",
       "      <td>16/11/2015</td>\n",
       "      <td>D1.12</td>\n",
       "      <td>27</td>\n",
       "      <td>129.0</td>\n",
       "      <td>-56.0</td>\n",
       "    </tr>\n",
       "    <tr>\n",
       "      <th>21091</th>\n",
       "      <td>LP</td>\n",
       "      <td>Competências Académicas I</td>\n",
       "      <td>103.0</td>\n",
       "      <td>2015-12-03 11:00:00</td>\n",
       "      <td>03/12/2015 12:30:00</td>\n",
       "      <td>03/12/2015</td>\n",
       "      <td>2E05</td>\n",
       "      <td>50</td>\n",
       "      <td>129.0</td>\n",
       "      <td>-53.0</td>\n",
       "    </tr>\n",
       "    <tr>\n",
       "      <th>...</th>\n",
       "      <td>...</td>\n",
       "      <td>...</td>\n",
       "      <td>...</td>\n",
       "      <td>...</td>\n",
       "      <td>...</td>\n",
       "      <td>...</td>\n",
       "      <td>...</td>\n",
       "      <td>...</td>\n",
       "      <td>...</td>\n",
       "      <td>...</td>\n",
       "    </tr>\n",
       "    <tr>\n",
       "      <th>20705</th>\n",
       "      <td>LE</td>\n",
       "      <td>Estatística</td>\n",
       "      <td>56.0</td>\n",
       "      <td>2015-11-05 16:00:00</td>\n",
       "      <td>05/11/2015 17:30:00</td>\n",
       "      <td>05/11/2015</td>\n",
       "      <td>C4.02</td>\n",
       "      <td>50</td>\n",
       "      <td>84.0</td>\n",
       "      <td>-6.0</td>\n",
       "    </tr>\n",
       "    <tr>\n",
       "      <th>20707</th>\n",
       "      <td>LE</td>\n",
       "      <td>Estatística</td>\n",
       "      <td>56.0</td>\n",
       "      <td>2015-10-22 16:00:00</td>\n",
       "      <td>22/10/2015 17:30:00</td>\n",
       "      <td>22/10/2015</td>\n",
       "      <td>AA3.23</td>\n",
       "      <td>50</td>\n",
       "      <td>84.0</td>\n",
       "      <td>-6.0</td>\n",
       "    </tr>\n",
       "    <tr>\n",
       "      <th>17411</th>\n",
       "      <td>MIA</td>\n",
       "      <td>Arquitectura I</td>\n",
       "      <td>33.0</td>\n",
       "      <td>2015-11-17 11:00:00</td>\n",
       "      <td>17/11/2015 12:30:00</td>\n",
       "      <td>17/11/2015</td>\n",
       "      <td>D1.02</td>\n",
       "      <td>27</td>\n",
       "      <td>60.0</td>\n",
       "      <td>-6.0</td>\n",
       "    </tr>\n",
       "    <tr>\n",
       "      <th>10293</th>\n",
       "      <td>0226</td>\n",
       "      <td>Programação em Ferramentas Office Avançadas</td>\n",
       "      <td>22.0</td>\n",
       "      <td>2015-10-23 16:00:00</td>\n",
       "      <td>23/10/2015 18:00:00</td>\n",
       "      <td>23/10/2015</td>\n",
       "      <td>C7.10</td>\n",
       "      <td>16</td>\n",
       "      <td>27.0</td>\n",
       "      <td>-6.0</td>\n",
       "    </tr>\n",
       "    <tr>\n",
       "      <th>23763</th>\n",
       "      <td>LG, LGM</td>\n",
       "      <td>Matemática</td>\n",
       "      <td>34.0</td>\n",
       "      <td>2015-11-13 14:30:00</td>\n",
       "      <td>13/11/2015 16:00:00</td>\n",
       "      <td>13/11/2015</td>\n",
       "      <td>D1.06</td>\n",
       "      <td>28</td>\n",
       "      <td>50.0</td>\n",
       "      <td>-6.0</td>\n",
       "    </tr>\n",
       "  </tbody>\n",
       "</table>\n",
       "<p>221 rows × 10 columns</p>\n",
       "</div>"
      ],
      "text/plain": [
       "                          Curso                          Unidade de execução  \\\n",
       "22825                        LE                   Contabilidade Financeira I   \n",
       "4938                         LG                      Modelos Organizacionais   \n",
       "4038   LETI-PL, LEI-PL, LIGE-PL                Fundamentos de Bases de Dados   \n",
       "14800                        LG                                Macroeconomia   \n",
       "21091                        LP                    Competências Académicas I   \n",
       "...                         ...                                          ...   \n",
       "20705                        LE                                  Estatística   \n",
       "20707                        LE                                  Estatística   \n",
       "17411                       MIA                               Arquitectura I   \n",
       "10293                      0226  Programação em Ferramentas Office Avançadas   \n",
       "23763                   LG, LGM                                   Matemática   \n",
       "\n",
       "       Inscritos no turno (no 1º semestre é baseado em estimativas)  \\\n",
       "22825                                              102.0              \n",
       "4938                                                88.0              \n",
       "4038                                                71.0              \n",
       "14800                                               83.0              \n",
       "21091                                              103.0              \n",
       "...                                                  ...              \n",
       "20705                                               56.0              \n",
       "20707                                               56.0              \n",
       "17411                                               33.0              \n",
       "10293                                               22.0              \n",
       "23763                                               34.0              \n",
       "\n",
       "                   Início                  Fim         Dia Sala da aula  \\\n",
       "22825 2015-09-21 09:30:00  21/09/2015 11:00:00  21/09/2015        C5.05   \n",
       "4938  2015-10-06 16:00:00  06/10/2015 17:30:00  06/10/2015        D1.12   \n",
       "4038  2015-10-21 19:30:00  21/10/2015 21:00:00  21/10/2015        B1.01   \n",
       "14800 2015-11-16 14:30:00  16/11/2015 16:00:00  16/11/2015        D1.12   \n",
       "21091 2015-12-03 11:00:00  03/12/2015 12:30:00  03/12/2015         2E05   \n",
       "...                   ...                  ...         ...          ...   \n",
       "20705 2015-11-05 16:00:00  05/11/2015 17:30:00  05/11/2015        C4.02   \n",
       "20707 2015-10-22 16:00:00  22/10/2015 17:30:00  22/10/2015       AA3.23   \n",
       "17411 2015-11-17 11:00:00  17/11/2015 12:30:00  17/11/2015        D1.02   \n",
       "10293 2015-10-23 16:00:00  23/10/2015 18:00:00  23/10/2015        C7.10   \n",
       "23763 2015-11-13 14:30:00  13/11/2015 16:00:00  13/11/2015        D1.06   \n",
       "\n",
       "       Lotação  Lotação_Default  Lotação_Diff  \n",
       "22825       34            129.0         -68.0  \n",
       "4938        27            129.0         -61.0  \n",
       "4038        12             50.0         -59.0  \n",
       "14800       27            129.0         -56.0  \n",
       "21091       50            129.0         -53.0  \n",
       "...        ...              ...           ...  \n",
       "20705       50             84.0          -6.0  \n",
       "20707       50             84.0          -6.0  \n",
       "17411       27             60.0          -6.0  \n",
       "10293       16             27.0          -6.0  \n",
       "23763       28             50.0          -6.0  \n",
       "\n",
       "[221 rows x 10 columns]"
      ]
     },
     "execution_count": 10,
     "metadata": {},
     "output_type": "execute_result"
    }
   ],
   "source": [
    "df_generated_schedule[(df_generated_schedule['Lotação_Diff'] < -5)][interesting_columns].sort_values(['Lotação_Diff'])"
   ]
  },
  {
   "cell_type": "code",
   "execution_count": null,
   "id": "intended-hearts",
   "metadata": {},
   "outputs": [],
   "source": []
  }
 ],
 "metadata": {
  "kernelspec": {
   "display_name": "Python 3 (ipykernel)",
   "language": "python",
   "name": "python3"
  },
  "language_info": {
   "codemirror_mode": {
    "name": "ipython",
    "version": 3
   },
   "file_extension": ".py",
   "mimetype": "text/x-python",
   "name": "python",
   "nbconvert_exporter": "python",
   "pygments_lexer": "ipython3",
   "version": "3.10.0"
  }
 },
 "nbformat": 4,
 "nbformat_minor": 5
}
